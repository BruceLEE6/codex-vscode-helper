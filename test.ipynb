{
 "cells": [
  {
   "cell_type": "code",
   "execution_count": null,
   "metadata": {},
   "outputs": [
    {
     "name": "stdout",
     "output_type": "stream",
     "text": [
      "hello world\n"
     ]
    }
   ],
   "source": [
    "print('hello world')"
   ]
  },
  {
   "cell_type": "code",
   "execution_count": null,
   "metadata": {},
   "outputs": [],
   "source": [
    "print('long sentences')"
   ]
  }
 ],
 "metadata": {
  "kernelspec": {
   "display_name": "FEniCS",
   "language": "python",
   "name": "fenics"
  }
 },
 "nbformat": 4,
 "nbformat_minor": 2
}
